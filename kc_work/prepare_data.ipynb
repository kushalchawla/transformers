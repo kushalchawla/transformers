{
 "cells": [
  {
   "cell_type": "code",
   "execution_count": 3,
   "metadata": {},
   "outputs": [
    {
     "name": "stderr",
     "output_type": "stream",
     "text": [
      "wandb: WARNING W&B installed but not logged in.  Run `wandb login` or set the WANDB_API_KEY env variable.\n"
     ]
    },
    {
     "data": {
      "application/vnd.jupyter.widget-view+json": {
       "model_id": "c5dffbf75d9042dc98973e25d7d0a5d5",
       "version_major": 2,
       "version_minor": 0
      },
      "text/plain": [
       "HBox(children=(IntProgress(value=0, description='Downloading', max=642, style=ProgressStyle(description_width=…"
      ]
     },
     "metadata": {},
     "output_type": "display_data"
    },
    {
     "name": "stdout",
     "output_type": "stream",
     "text": [
      "\n"
     ]
    }
   ],
   "source": [
    "import numpy as np \n",
    "import pandas as pd \n",
    "import json\n",
    "from pandas.io.json import json_normalize\n",
    "import matplotlib.pyplot as plt \n",
    "import emoji\n",
    "%matplotlib inline\n",
    "import nltk\n",
    "import copy\n",
    "import random\n",
    "\n",
    "from transformers import AutoModelWithLMHead, AutoTokenizer\n",
    "tokenizer = AutoTokenizer.from_pretrained(\"microsoft/DialoGPT-medium\")"
   ]
  },
  {
   "cell_type": "code",
   "execution_count": 39,
   "metadata": {},
   "outputs": [],
   "source": [
    "def get_turns(item):\n",
    "    \"\"\"\n",
    "    TODO: Include dummy sentences to cover for \"Submit-Deal\", \"Accept-Deal\", \"Reject-Deal\", \"Walk-Away\".\n",
    "    NOTE THAT THIS MIGHT REQUIRE FIXING THE LENGTH ISSUE OF LESS THAN 1024.\n",
    "    We can work without this probably, unless you are deploying the agent where it has to choose over submit\n",
    "    accept reject decisions.\n",
    "    \"\"\"\n",
    "    turns = []\n",
    "    for act in item[\"acts\"]:\n",
    "        if(act['text'] not in ['Submit-Deal', 'Accept-Deal', 'Reject-Deal', 'Walk-Away', 'Submit-Post-Survey']):\n",
    "            turns.append(act['text'])\n",
    "    \n",
    "    return turns\n",
    "\n",
    "def get_output(i, item, is_last=False):\n",
    "    turns = get_turns(item)\n",
    "    out = \" <|endoftext|> \".join(turns)\n",
    "    if(is_last):\n",
    "        out += \" <|endoftext|>\"\n",
    "    else:\n",
    "        out += \" <|endoftext|>\\n\"\n",
    "    \n",
    "    assert get_token_length(out) <= 1024, i\n",
    "    return out\n",
    "\n",
    "def get_token_length(msg):\n",
    "    ids = tokenizer.encode(msg, return_tensors='pt')\n",
    "    return len(ids[0])"
   ]
  },
  {
   "cell_type": "code",
   "execution_count": 42,
   "metadata": {},
   "outputs": [
    {
     "name": "stdout",
     "output_type": "stream",
     "text": [
      "100\n",
      "dict_keys(['convo_is_finished', 'world_tag', 'bad_workers', 'acts', 'turns', 'workers', 'fpath', 'qualtrics', 'dialogue_id'])\n",
      "../../../storage/data/hf_test.txt\n",
      "0\n"
     ]
    }
   ],
   "source": [
    "in_f = \"../../../storage/data/all_data-1030-shuffled.json\" \n",
    "with open(in_f) as f:\n",
    "    all_data = json.load(f)\n",
    "\n",
    "dtype = 'test'\n",
    "\n",
    "if(dtype == 'train'):\n",
    "    all_data = all_data[:830]\n",
    "elif(dtype == 'val'):\n",
    "    all_data = all_data[830:930]\n",
    "elif(dtype == 'test'):\n",
    "    all_data = all_data[930:]\n",
    "else:\n",
    "    all_data = []\n",
    "    \n",
    "print(len(all_data))\n",
    "print(all_data[0].keys())\n",
    "\n",
    "outf = \"../../../storage/data/hf_\" + dtype + \".txt\"\n",
    "print(outf)\n",
    "\n",
    "with open(outf, \"w\") as f:\n",
    "    for i, item in enumerate(all_data):\n",
    "        if(not i%100):\n",
    "            print(i)\n",
    "        output = get_output(i, item, is_last=(i==(len(all_data)-1)))\n",
    "        f.write(output)"
   ]
  },
  {
   "cell_type": "code",
   "execution_count": 38,
   "metadata": {},
   "outputs": [
    {
     "data": {
      "text/plain": [
       "['ðŁĺ', '®', 'ĠðŁĻĤ', 'Ġâĺ', '¹', 'ï¸ı', 'ĠðŁĺ', '¡']"
      ]
     },
     "execution_count": 38,
     "metadata": {},
     "output_type": "execute_result"
    }
   ],
   "source": []
  },
  {
   "cell_type": "code",
   "execution_count": null,
   "metadata": {},
   "outputs": [],
   "source": []
  }
 ],
 "metadata": {
  "kernelspec": {
   "display_name": "Python 3",
   "language": "python",
   "name": "python3"
  },
  "language_info": {
   "codemirror_mode": {
    "name": "ipython",
    "version": 3
   },
   "file_extension": ".py",
   "mimetype": "text/x-python",
   "name": "python",
   "nbconvert_exporter": "python",
   "pygments_lexer": "ipython3",
   "version": "3.7.3"
  }
 },
 "nbformat": 4,
 "nbformat_minor": 2
}
