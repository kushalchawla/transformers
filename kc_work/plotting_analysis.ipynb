{
 "cells": [
  {
   "cell_type": "code",
   "execution_count": 2,
   "metadata": {},
   "outputs": [],
   "source": [
    "import numpy as np \n",
    "import pandas as pd \n",
    "import json\n",
    "from pandas.io.json import json_normalize\n",
    "import matplotlib.pyplot as plt \n",
    "import emoji\n",
    "%matplotlib inline\n",
    "import nltk\n",
    "import copy\n",
    "import random"
   ]
  },
  {
   "cell_type": "code",
   "execution_count": 3,
   "metadata": {},
   "outputs": [
    {
     "ename": "FileNotFoundError",
     "evalue": "[Errno 2] No such file or directory: 'logs.json'",
     "output_type": "error",
     "traceback": [
      "\u001b[0;31m---------------------------------------------------------------------------\u001b[0m",
      "\u001b[0;31mFileNotFoundError\u001b[0m                         Traceback (most recent call last)",
      "\u001b[0;32m<ipython-input-3-d604801a0aa8>\u001b[0m in \u001b[0;36m<module>\u001b[0;34m\u001b[0m\n\u001b[1;32m      1\u001b[0m \u001b[0min_f\u001b[0m \u001b[0;34m=\u001b[0m \u001b[0;34m\"logs.json\"\u001b[0m\u001b[0;34m\u001b[0m\u001b[0;34m\u001b[0m\u001b[0m\n\u001b[0;32m----> 2\u001b[0;31m \u001b[0;32mwith\u001b[0m \u001b[0mopen\u001b[0m\u001b[0;34m(\u001b[0m\u001b[0min_f\u001b[0m\u001b[0;34m)\u001b[0m \u001b[0;32mas\u001b[0m \u001b[0mf\u001b[0m\u001b[0;34m:\u001b[0m\u001b[0;34m\u001b[0m\u001b[0;34m\u001b[0m\u001b[0m\n\u001b[0m\u001b[1;32m      3\u001b[0m     \u001b[0mall_data\u001b[0m \u001b[0;34m=\u001b[0m \u001b[0mjson\u001b[0m\u001b[0;34m.\u001b[0m\u001b[0mload\u001b[0m\u001b[0;34m(\u001b[0m\u001b[0mf\u001b[0m\u001b[0;34m)\u001b[0m\u001b[0;34m\u001b[0m\u001b[0;34m\u001b[0m\u001b[0m\n\u001b[1;32m      4\u001b[0m \u001b[0;34m\u001b[0m\u001b[0m\n\u001b[1;32m      5\u001b[0m \u001b[0mtrain_loss\u001b[0m \u001b[0;34m=\u001b[0m \u001b[0;34m[\u001b[0m\u001b[0;34m]\u001b[0m\u001b[0;34m\u001b[0m\u001b[0;34m\u001b[0m\u001b[0m\n",
      "\u001b[0;31mFileNotFoundError\u001b[0m: [Errno 2] No such file or directory: 'logs.json'"
     ]
    }
   ],
   "source": [
    "in_f = \"logs.json\" \n",
    "with open(in_f) as f:\n",
    "    all_data = json.load(f)\n",
    "\n",
    "train_loss = []\n",
    "eval_loss = []\n",
    "\n",
    "for item in all_data:\n",
    "    if('loss' in item):\n",
    "        train_loss.append(item['loss'])\n",
    "    elif('eval_loss' in item):\n",
    "        eval_loss.append(item['eval_loss'])\n",
    "        \n",
    "assert len(eval_loss) == len(train_loss)\n",
    "print(\"OBSERVATIONS: \", len(eval_loss))"
   ]
  },
  {
   "cell_type": "code",
   "execution_count": 20,
   "metadata": {},
   "outputs": [],
   "source": [
    "def plot_it(train_data, dev_data, data_name=\"Loss\"):\n",
    "    \"\"\"\n",
    "    plot the train/dev data on the same graph.\n",
    "    \"\"\"\n",
    "    assert len(train_data) == len(dev_data)\n",
    "    \n",
    "    x_labels = [(i+1) for i in range(len(train_data))]\n",
    "    \n",
    "    plt.clf()\n",
    "    \n",
    "    plt.plot(x_labels, train_data, label=\"train\", linewidth=4)\n",
    "    plt.plot(x_labels, dev_data, label=\"dev\", linewidth=4)\n",
    "    \n",
    "    # Add legend\n",
    "    legend = plt.legend(loc='upper left', prop={'weight': 'bold', 'size': 20}, bbox_to_anchor=(0,1.5), ncol=10)\n",
    "    \n",
    "    # Add title and x, y labels\n",
    "    plt.title(data_name, fontsize=16, fontweight='bold')\n",
    "    \n",
    "    plt.xlabel(\"Training Steps\", fontsize=16, fontweight='bold')\n",
    "    plt.ylabel(data_name, fontsize=16, fontweight='bold')\n",
    "    plt.xticks(fontsize=10, fontweight=\"bold\")\n",
    "    plt.yticks(fontsize=10, fontweight=\"bold\")\n",
    "    \n",
    "    plt.show()\n",
    "    #plt.savefig(\"plot.pdf\")"
   ]
  },
  {
   "cell_type": "code",
   "execution_count": 31,
   "metadata": {},
   "outputs": [
    {
     "data": {
      "image/png": "[encoded data removed]",
      "text/plain": [
       "<Figure size 432x288 with 1 Axes>"
      ]
     },
     "metadata": {
      "needs_background": "light"
     },
     "output_type": "display_data"
    }
   ],
   "source": [
    "#plot_it([4.5, 2.3, 0.7, 0.2], [5.2, 2.4, 0.6, 0.1])"
   ]
  },
  {
   "cell_type": "code",
   "execution_count": null,
   "metadata": {},
   "outputs": [],
   "source": []
  }
 ],
 "metadata": {
  "kernelspec": {
   "display_name": "Python 3",
   "language": "python",
   "name": "python3"
  },
  "language_info": {
   "codemirror_mode": {
    "name": "ipython",
    "version": 3
   },
   "file_extension": ".py",
   "mimetype": "text/x-python",
   "name": "python",
   "nbconvert_exporter": "python",
   "pygments_lexer": "ipython3",
   "version": "3.7.3"
  }
 },
 "nbformat": 4,
 "nbformat_minor": 2
}
